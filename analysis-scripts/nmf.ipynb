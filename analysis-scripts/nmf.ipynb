{
 "cells": [
  {
   "cell_type": "code",
   "execution_count": 32,
   "metadata": {},
   "outputs": [
    {
     "data": {
      "text/plain": [
       "<module 'models' from '/Users/tjlane/opt/mmcpd-scripts/models.py'>"
      ]
     },
     "execution_count": 32,
     "metadata": {},
     "output_type": "execute_result"
    }
   ],
   "source": [
    "import os\n",
    "import gemmi\n",
    "import reciprocalspaceship as rs\n",
    "\n",
    "import numpy as np\n",
    "from sklearn.decomposition import NMF\n",
    "from scipy.optimize import curve_fit\n",
    "from scipy.interpolate import interp1d\n",
    "\n",
    "from matplotlib import pyplot as plt\n",
    "\n",
    "import masks\n",
    "import models\n",
    "\n",
    "from importlib import reload\n",
    "reload(models)"
   ]
  },
  {
   "cell_type": "code",
   "execution_count": 33,
   "metadata": {},
   "outputs": [],
   "source": [
    "# base_path = '/Users/tjlane/Desktop/PL-workshop/nmf/intensity_polder/ttd_chainA/'\n",
    "# MASK = masks.TT_chainA_region_only\n",
    "# MASK_NAME = 'TT_region'\n",
    "\n",
    "# base_path = '/Users/tjlane/Desktop/PL-workshop/nmf/polder/ttd_chainA/'\n",
    "# MASK = masks.TT_chainA_region_only\n",
    "# MASK_NAME = 'TT_region_extr'\n",
    "\n",
    "# base_path = '/Users/tjlane/Desktop/PL-workshop/nmf/intensity_polder/ttd_chainB/'\n",
    "# MASK = masks.TT_chainB_region_only\n",
    "# MASK_NAME = 'TT_region-B'\n",
    "\n",
    "# base_path = '/Users/tjlane/Desktop/PL-workshop/nmf/polder/ttd_chainB/'\n",
    "# MASK = masks.TT_chainB_region_only\n",
    "# MASK_NAME = 'TT_region_extr-B'\n",
    "\n",
    "# base_path = '/Users/tjlane/Desktop/PL-workshop/nmf/polder/fda_chainA/'\n",
    "# MASK = masks.FDA_chainA_region_only\n",
    "# MASK_NAME = 'FAD_region_extr'\n",
    "\n",
    "# base_path = '/Users/tjlane/Desktop/PL-workshop/nmf/polder/fda_chainB/'\n",
    "# MASK = masks.FDA_chainB_region_only\n",
    "# MASK_NAME = 'FAD_region_extr-B'\n",
    "\n",
    "base_path = '/Users/tjlane/Desktop/PL-workshop/nmf/polder/fda_both/'\n",
    "MASK = masks.FDA_both_chains\n",
    "MASK_NAME = 'FAD_both_chains'"
   ]
  },
  {
   "cell_type": "code",
   "execution_count": 34,
   "metadata": {},
   "outputs": [],
   "source": [
    "timepoints = {\n",
    "         0.0 : 'superdark_deposit_polder_map_coeffs.mtz',\n",
    "         3.0 : '3ps_deposit_polder_map_coeffs.mtz',\n",
    "       300.0 : '300ps_deposit_polder_map_coeffs.mtz',\n",
    "      1000.0 : '1ns_deposit_polder_map_coeffs.mtz',\n",
    "      3000.0 : '3ns_deposit_polder_map_coeffs.mtz',\n",
    "     10000.0 : '10ns_deposit_polder_map_coeffs.mtz',\n",
    "     30000.0 : '30ns_deposit_polder_map_coeffs.mtz',\n",
    "   1000000.0 : '1us_deposit_polder_map_coeffs.mtz',\n",
    "  10000000.0 : '10us_deposit_polder_map_coeffs.mtz',\n",
    "  30000000.0 : '30us_deposit_polder_map_coeffs.mtz',\n",
    " 100000000.0 : '100us_deposit_polder_map_coeffs.mtz',\n",
    "}\n",
    "\n",
    "for k in timepoints.keys():\n",
    "    timepoints[k] = base_path + timepoints[k]\n",
    "    if not os.path.exists(timepoints[k]):\n",
    "        print('cant find', k)"
   ]
  },
  {
   "cell_type": "code",
   "execution_count": 35,
   "metadata": {},
   "outputs": [
    {
     "name": "stdout",
     "output_type": "stream",
     "text": [
      "(180, 300, 432) 2.107942 32.45577 0.9950617283950617\n",
      "(180, 300, 432) 2.163017 31.289146 0.9950617283950617\n",
      "(180, 300, 432) 2.350099 30.97964 0.9950617283950617\n",
      "(180, 300, 432) 2.2747512 31.289146 0.9950617283950617\n",
      "(180, 300, 432) 2.3459172 31.289146 0.9950617283950617\n",
      "(180, 300, 432) 2.3633437 31.289146 0.9950617283950617\n",
      "(180, 300, 432) 2.390934 31.289146 0.9950617283950617\n",
      "(180, 300, 432) 2.2414005 31.289146 0.9950617283950617\n",
      "(180, 300, 432) 2.1829526 31.289146 0.9950617283950617\n",
      "(180, 300, 432) 2.2473514 31.289146 0.9950617283950617\n",
      "(180, 300, 432) 2.5000052 30.97964 0.9950617283950617\n",
      "(11, 23328000)\n"
     ]
    }
   ],
   "source": [
    "# load all Fs and sigFs into one big rs table\n",
    "tps = sorted(timepoints.keys())\n",
    "maps = []\n",
    "\n",
    "for tp in tps:\n",
    "\n",
    "    ds = rs.read_mtz(timepoints[tp]) \n",
    "    ds.compute_dHKL(inplace=True)\n",
    "\n",
    "    gemmi_mtz = ds.to_gemmi()\n",
    "    #grid = gemmi_mtz.transform_f_phi_to_map('2FOFCWT', 'PH2FOFCWT', exact_size=(180, 300, 432))\n",
    "    grid = gemmi_mtz.transform_f_phi_to_map('mFo-DFc_polder', 'PHImFo-DFc_polder', exact_size=(180, 300, 432))\n",
    "\n",
    "    map = MASK(grid)\n",
    "    map = np.array(map)\n",
    "    \n",
    "    MAP_SHAPE = map.shape\n",
    "    maps.append(map.flatten())\n",
    "\n",
    "    fraction_of_zeros = np.sum(map == 0) / float(np.product(map.shape))\n",
    "    print( MAP_SHAPE, np.min(ds['dHKL']), np.max(ds['dHKL']), fraction_of_zeros)\n",
    "\n",
    "\n",
    "maps = np.array(maps)\n",
    "#assert maps.min() > -1e-32, maps.min()\n",
    "print(maps.shape)"
   ]
  },
  {
   "cell_type": "code",
   "execution_count": 36,
   "metadata": {},
   "outputs": [
    {
     "data": {
      "image/png": "[encoded data removed]",
      "text/plain": [
       "<Figure size 640x480 with 1 Axes>"
      ]
     },
     "metadata": {},
     "output_type": "display_data"
    }
   ],
   "source": [
    "plt.figure()\n",
    "plt.hist(maps.flatten(), bins=np.linspace(-2, 3, 100))\n",
    "plt.yscale('log')\n",
    "plt.show()"
   ]
  },
  {
   "cell_type": "code",
   "execution_count": 37,
   "metadata": {},
   "outputs": [],
   "source": [
    "maps[maps < 0] = 0.0"
   ]
  },
  {
   "cell_type": "code",
   "execution_count": 38,
   "metadata": {},
   "outputs": [
    {
     "name": "stderr",
     "output_type": "stream",
     "text": [
      "/opt/homebrew/Caskroom/miniforge/base/envs/rs/lib/python3.10/site-packages/sklearn/decomposition/_nmf.py:1665: ConvergenceWarning: Maximum number of iterations 200 reached. Increase it to improve convergence.\n",
      "  warnings.warn(\n"
     ]
    }
   ],
   "source": [
    "N_COMPONENTS = 4\n",
    "\n",
    "model = NMF(n_components=N_COMPONENTS, init='random', random_state=0)\n",
    "W = model.fit_transform(np.abs(maps))\n",
    "H = model.components_"
   ]
  },
  {
   "cell_type": "code",
   "execution_count": 39,
   "metadata": {},
   "outputs": [
    {
     "name": "stdout",
     "output_type": "stream",
     "text": [
      "residual: 4.781365929943778\n",
      "[3.54182953e-03 2.48538585e-04 6.33642763e-07]\n",
      "timescales (ns): [2.82339958e-01 4.02352014e+00 1.57817631e+03]\n"
     ]
    },
    {
     "name": "stderr",
     "output_type": "stream",
     "text": [
      "/opt/homebrew/Caskroom/miniforge/base/envs/rs/lib/python3.10/site-packages/scipy/integrate/_odepack_py.py:248: ODEintWarning: Excess work done on this call (perhaps wrong Dfun type). Run with full_output = 1 to get quantitative information.\n",
      "  warnings.warn(warning_msg, ODEintWarning)\n"
     ]
    }
   ],
   "source": [
    "times = sorted(timepoints.keys())\n",
    "populations = W / W.sum(axis=1)[:,None]\n",
    "\n",
    "# we need to re-order the states so they appear in the order they are populated\n",
    "\n",
    "#populations = populations[:, np.array([1,2,0])] # TTD 3 components, FAD 3 components\n",
    "populations = populations[ :, np.array([3,2,1,0])]\n",
    "\n",
    "lk_model = models.LinearKinetic(n_states=N_COMPONENTS, times=times, populations=populations)\n",
    "k_opt = lk_model.fit(k0=[1e-4,] * (N_COMPONENTS-1))\n",
    "\n",
    "print(k_opt)\n",
    "print('timescales (ns):', 1e-3 / k_opt)"
   ]
  },
  {
   "cell_type": "code",
   "execution_count": 40,
   "metadata": {},
   "outputs": [
    {
     "name": "stdout",
     "output_type": "stream",
     "text": [
      "87.24468890532822\n"
     ]
    },
    {
     "data": {
      "image/png": "[encoded data removed]",
      "text/plain": [
       "<Figure size 400x300 with 1 Axes>"
      ]
     },
     "metadata": {},
     "output_type": "display_data"
    }
   ],
   "source": [
    "print(model.reconstruction_err_)\n",
    "\n",
    "plt.figure(figsize=(4,3))\n",
    "\n",
    "plt.plot(times, populations, 'o')\n",
    "plt.gca().set_prop_cycle(None)\n",
    "plt.plot(times, lk_model.estimate(times, k_opt))\n",
    "\n",
    "plt.xlabel('time (ps)')\n",
    "plt.xscale('symlog')\n",
    "plt.ylabel('component magnitude')\n",
    "\n",
    "plt.tight_layout()\n",
    "plt.savefig(f'/Users/tjlane/Desktop/PL-workshop/nmf/plots/populations_{MASK_NAME}.png')\n",
    "plt.savefig(f'/Users/tjlane/Desktop/PL-workshop/nmf/plots/populations_{MASK_NAME}.pdf')\n",
    "plt.show()"
   ]
  },
  {
   "cell_type": "code",
   "execution_count": 42,
   "metadata": {},
   "outputs": [],
   "source": [
    "output_path = '/Users/tjlane/Desktop/PL-workshop/nmf/components/'\n",
    "\n",
    "for i in range(N_COMPONENTS):\n",
    "    component_grid = gemmi.FloatGrid(H[i,:].reshape(MAP_SHAPE))\n",
    "    masks.grid_to_PL_map(\n",
    "        component_grid, \n",
    "        output_path + f'nmf_mask{MASK_NAME}_comp{i}.ccp4'\n",
    "    )"
   ]
  },
  {
   "cell_type": "code",
   "execution_count": null,
   "metadata": {},
   "outputs": [],
   "source": []
  }
 ],
 "metadata": {
  "kernelspec": {
   "display_name": "rs",
   "language": "python",
   "name": "python3"
  },
  "language_info": {
   "codemirror_mode": {
    "name": "ipython",
    "version": 3
   },
   "file_extension": ".py",
   "mimetype": "text/x-python",
   "name": "python",
   "nbconvert_exporter": "python",
   "pygments_lexer": "ipython3",
   "version": "3.10.10"
  },
  "orig_nbformat": 4
 },
 "nbformat": 4,
 "nbformat_minor": 2
}
