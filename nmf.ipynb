{
 "cells": [
  {
   "cell_type": "code",
   "execution_count": 212,
   "metadata": {},
   "outputs": [
    {
     "data": {
      "text/plain": [
       "<module 'models' from '/Users/tjlane/opt/mmcpd-scripts/models.py'>"
      ]
     },
     "execution_count": 212,
     "metadata": {},
     "output_type": "execute_result"
    }
   ],
   "source": [
    "import os\n",
    "import gemmi\n",
    "import reciprocalspaceship as rs\n",
    "\n",
    "import numpy as np\n",
    "from sklearn.decomposition import NMF\n",
    "from scipy.optimize import curve_fit\n",
    "from scipy.interpolate import interp1d\n",
    "\n",
    "from matplotlib import pyplot as plt\n",
    "\n",
    "import masks\n",
    "import models\n",
    "\n",
    "from importlib import reload\n",
    "reload(models)"
   ]
  },
  {
   "cell_type": "code",
   "execution_count": 213,
   "metadata": {},
   "outputs": [],
   "source": [
    "def latex_float(f):\n",
    "    float_str = \"{0:.2e}\".format(f)\n",
    "    if \"e\" in float_str:\n",
    "        base, exponent = float_str.split(\"e\")\n",
    "        return r\"{0} \\times 10^{{{1}}}\".format(base, int(exponent))\n",
    "    else:\n",
    "        return float_str"
   ]
  },
  {
   "cell_type": "code",
   "execution_count": 214,
   "metadata": {},
   "outputs": [],
   "source": [
    "# parameters\n",
    "\n",
    "#MASK = lambda map : map  ; MASK_NAME = 'none'\n",
    "#MASK = lambda map : masks.mask_solvent(PDB, map)  ; MASK_NAME = 'solvent'\n",
    "\n",
    "\n",
    "#MASK = masks.FDA_and_TT_chainA_region_only  ; MASK_NAME = 'TT+FAD_region'"
   ]
  },
  {
   "cell_type": "code",
   "execution_count": 241,
   "metadata": {},
   "outputs": [],
   "source": [
    "# base_path = '/Users/tjlane/Desktop/PL-workshop/pdb-depositions/'\n",
    "# timepoints = {\n",
    "#          0.0 : '1_superdark/superdark_deposit.mtz',\n",
    "#          3.0 : '2_3ps/3ps_deposit.mtz',\n",
    "#        300.0 : '3_300ps/300ps_deposit.mtz',\n",
    "#       1000.0 : '4_1ns/1ns_deposit.mtz',\n",
    "#       3000.0 : '5_3ns/3ns_deposit.mtz',\n",
    "#      10000.0 : '6_10ns/10ns_deposit.mtz',\n",
    "#      30000.0 : '7_30ns/30ns_deposit.mtz',\n",
    "#    1000000.0 : '8_1us/1us_deposit.mtz',\n",
    "#   10000000.0 : '9_10us/10us_deposit.mtz',\n",
    "#   30000000.0 : '10_30us/30us_deposit.mtz',\n",
    "#  100000000.0 : '11_100us/100us_deposit.mtz',\n",
    "# }\n",
    "\n",
    "base_path = '/Users/tjlane/Desktop/PL-workshop/nmf/polder/ttd_chainA/'\n",
    "MASK = masks.TT_chainA_region_only\n",
    "MASK_NAME = 'TT_region'\n",
    "timepoints = {\n",
    "         0.0 : 'superdark_deposit_polder_map_coeffs.mtz',\n",
    "         3.0 : '3ps_deposit_polder_map_coeffs.mtz',\n",
    "       300.0 : '300ps_deposit_polder_map_coeffs.mtz',\n",
    "      1000.0 : '1ns_deposit_polder_map_coeffs.mtz',\n",
    "      3000.0 : '3ns_deposit_polder_map_coeffs.mtz',\n",
    "     10000.0 : '10ns_deposit_polder_map_coeffs.mtz',\n",
    "     30000.0 : '30ns_deposit_polder_map_coeffs.mtz',\n",
    "   1000000.0 : '1us_deposit_polder_map_coeffs.mtz',\n",
    "  10000000.0 : '10us_deposit_polder_map_coeffs.mtz',\n",
    "  30000000.0 : '30us_deposit_polder_map_coeffs.mtz',\n",
    " 100000000.0 : '100us_deposit_polder_map_coeffs.mtz',\n",
    "}\n",
    "\n",
    "base_path = '/Users/tjlane/Desktop/PL-workshop/nmf/intensity_polder/ttd_chainB/'\n",
    "MASK = masks.TT_chainB_region_only\n",
    "MASK_NAME = 'TT_region-B'\n",
    "timepoints = {\n",
    "         0.0 : 'superdark_deposit_polder_map_coeffs.mtz',\n",
    "         3.0 : '3ps_deposit_polder_map_coeffs.mtz',\n",
    "       300.0 : '300ps_deposit_polder_map_coeffs.mtz',\n",
    "      1000.0 : '1ns_deposit_polder_map_coeffs.mtz',\n",
    "      3000.0 : '3ns_deposit_polder_map_coeffs.mtz',\n",
    "     10000.0 : '10ns_deposit_polder_map_coeffs.mtz',\n",
    "     30000.0 : '30ns_deposit_polder_map_coeffs.mtz',\n",
    "   1000000.0 : '1us_deposit_polder_map_coeffs.mtz',\n",
    "  10000000.0 : '10us_deposit_polder_map_coeffs.mtz',\n",
    "  30000000.0 : '30us_deposit_polder_map_coeffs.mtz',\n",
    " 100000000.0 : '100us_deposit_polder_map_coeffs.mtz',\n",
    "}\n",
    "\n",
    "\n",
    "#MASK = masks.FDA_chainA_region_only  ; MASK_NAME = 'FAD_region'\n",
    "\n",
    "for k in timepoints.keys():\n",
    "    timepoints[k] = base_path + timepoints[k]\n",
    "    if not os.path.exists(timepoints[k]):\n",
    "        print('cant find', k)"
   ]
  },
  {
   "cell_type": "code",
   "execution_count": 242,
   "metadata": {},
   "outputs": [
    {
     "name": "stdout",
     "output_type": "stream",
     "text": [
      "(180, 300, 432) 2.107942 32.45577 0.993912037037037\n",
      "(180, 300, 432) 2.1622956 31.289146 0.993912037037037\n",
      "(180, 300, 432) 2.350099 30.97964 0.993912037037037\n",
      "(180, 300, 432) 2.2747512 31.289146 0.993912037037037\n",
      "(180, 300, 432) 2.3459172 31.788992 0.993912037037037\n",
      "(180, 300, 432) 2.3633437 31.289146 0.993912037037037\n",
      "(180, 300, 432) 2.390934 31.788992 0.993912037037037\n",
      "(180, 300, 432) 2.2414005 31.289146 0.993912037037037\n",
      "(180, 300, 432) 2.1827593 31.788992 0.993912037037037\n",
      "(180, 300, 432) 2.2473514 31.289146 0.993912037037037\n",
      "(180, 300, 432) 2.5000052 30.668371 0.993912037037037\n",
      "(11, 23328000)\n"
     ]
    }
   ],
   "source": [
    "# load all Fs and sigFs into one big rs table\n",
    "tps = sorted(timepoints.keys())\n",
    "maps = []\n",
    "\n",
    "for tp in tps:\n",
    "\n",
    "    ds = rs.read_mtz(timepoints[tp]) \n",
    "    ds.compute_dHKL(inplace=True)\n",
    "\n",
    "    gemmi_mtz = ds.to_gemmi()\n",
    "    #grid = gemmi_mtz.transform_f_phi_to_map('2FOFCWT', 'PH2FOFCWT', exact_size=(180, 300, 432))\n",
    "    grid = gemmi_mtz.transform_f_phi_to_map('mFo-DFc_polder', 'PHImFo-DFc_polder', exact_size=(180, 300, 432))\n",
    "\n",
    "    map = MASK(grid)\n",
    "    map = np.array(map)\n",
    "    \n",
    "    MAP_SHAPE = map.shape\n",
    "    maps.append(map.flatten())\n",
    "\n",
    "    fraction_of_zeros = np.sum(map == 0) / float(np.product(map.shape))\n",
    "    print( MAP_SHAPE, np.min(ds['dHKL']), np.max(ds['dHKL']), fraction_of_zeros)\n",
    "\n",
    "\n",
    "maps = np.array(maps)\n",
    "#assert maps.min() > -1e-32, maps.min()\n",
    "print(maps.shape)"
   ]
  },
  {
   "cell_type": "code",
   "execution_count": 243,
   "metadata": {},
   "outputs": [
    {
     "data": {
      "image/png": "[encoded data removed]",
      "text/plain": [
       "<Figure size 640x480 with 1 Axes>"
      ]
     },
     "metadata": {},
     "output_type": "display_data"
    }
   ],
   "source": [
    "plt.figure()\n",
    "plt.hist(maps.flatten(), bins=np.linspace(-2, 3, 100))\n",
    "plt.yscale('log')\n",
    "plt.show()"
   ]
  },
  {
   "cell_type": "code",
   "execution_count": 244,
   "metadata": {},
   "outputs": [],
   "source": [
    "maps[maps < 0] = 0.0"
   ]
  },
  {
   "cell_type": "code",
   "execution_count": 245,
   "metadata": {},
   "outputs": [],
   "source": [
    "# reconstruction_errors = []\n",
    "\n",
    "# for n_components in range(1, 10):\n",
    "#     model = NMF(n_components=n_components, init='random', random_state=0)\n",
    "#     model.fit(fda_maps)\n",
    "#     reconstruction_errors.append(model.reconstruction_err_)"
   ]
  },
  {
   "cell_type": "code",
   "execution_count": 246,
   "metadata": {},
   "outputs": [],
   "source": [
    "# plt.figure()\n",
    "# plt.plot(np.arange(1,10), reconstruction_errors)\n",
    "# plt.xlabel('number of components')\n",
    "# plt.ylabel('reconstruction error')\n",
    "# plt.show()"
   ]
  },
  {
   "cell_type": "code",
   "execution_count": 247,
   "metadata": {},
   "outputs": [],
   "source": [
    "N_COMPONENTS = 3\n",
    "\n",
    "model = NMF(n_components=N_COMPONENTS, init='random', random_state=0)\n",
    "W = model.fit_transform(np.abs(maps))\n",
    "H = model.components_"
   ]
  },
  {
   "cell_type": "code",
   "execution_count": null,
   "metadata": {},
   "outputs": [
    {
     "name": "stdout",
     "output_type": "stream",
     "text": [
      "residual: 0.4029873110296479\n",
      "timescales (ns): [1.23440899e+00 1.56744249e+04]\n"
     ]
    },
    {
     "name": "stderr",
     "output_type": "stream",
     "text": [
      "/opt/homebrew/Caskroom/miniforge/base/envs/rs/lib/python3.10/site-packages/scipy/integrate/_odepack_py.py:248: ODEintWarning: Excess work done on this call (perhaps wrong Dfun type). Run with full_output = 1 to get quantitative information.\n",
      "  warnings.warn(warning_msg, ODEintWarning)\n"
     ]
    }
   ],
   "source": [
    "times = sorted(timepoints.keys())\n",
    "populations = W / W.sum(axis=1)[:,None]\n",
    "\n",
    "# we need to re-order the states so they appear in the order they are populated\n",
    "populations = populations[:, np.array([1,2,0])]\n",
    "#populations = populations[ :, np.array([0,2,3,1])]\n",
    "\n",
    "lk_model = models.LinearKinetic(n_states=N_COMPONENTS, times=times, populations=populations)\n",
    "k_opt = lk_model.fit(k0=[1e-4,] * (N_COMPONENTS-1))\n",
    "print('timescales (ns):', 1e-3 / k_opt)"
   ]
  },
  {
   "cell_type": "code",
   "execution_count": 234,
   "metadata": {},
   "outputs": [
    {
     "name": "stdout",
     "output_type": "stream",
     "text": [
      "81.07767783890952\n"
     ]
    },
    {
     "data": {
      "image/png": "[encoded data removed]",
      "text/plain": [
       "<Figure size 400x300 with 1 Axes>"
      ]
     },
     "metadata": {},
     "output_type": "display_data"
    }
   ],
   "source": [
    "print(model.reconstruction_err_)\n",
    "\n",
    "plt.figure(figsize=(4,3))\n",
    "\n",
    "plt.plot(times, populations, 'o')\n",
    "plt.gca().set_prop_cycle(None)\n",
    "plt.plot(times, lk_model.estimate(times, k_opt))\n",
    "\n",
    "plt.xlabel('time (ps)')\n",
    "plt.xscale('symlog')\n",
    "plt.ylabel('component magnitude')\n",
    "\n",
    "plt.tight_layout()\n",
    "plt.savefig(f'/Users/tjlane/Desktop/PL-workshop/nmf/plots/populations_{MASK_NAME}.png')\n",
    "plt.savefig(f'/Users/tjlane/Desktop/PL-workshop/nmf/plots/populations_{MASK_NAME}.pdf')\n",
    "plt.show()"
   ]
  },
  {
   "cell_type": "code",
   "execution_count": 224,
   "metadata": {},
   "outputs": [],
   "source": [
    "output_path = '/Users/tjlane/Desktop/PL-workshop/nmf/components/'\n",
    "\n",
    "for i in range(N_COMPONENTS):\n",
    "    component_grid = gemmi.FloatGrid(H[i,:].reshape(MAP_SHAPE))\n",
    "    masks.grid_to_PL_map(\n",
    "        component_grid, \n",
    "        output_path + f'nmf_mask{MASK_NAME}_comp{i}.ccp4'\n",
    "    )"
   ]
  },
  {
   "cell_type": "code",
   "execution_count": null,
   "metadata": {},
   "outputs": [],
   "source": []
  },
  {
   "cell_type": "code",
   "execution_count": null,
   "metadata": {},
   "outputs": [],
   "source": []
  }
 ],
 "metadata": {
  "kernelspec": {
   "display_name": "rs",
   "language": "python",
   "name": "python3"
  },
  "language_info": {
   "codemirror_mode": {
    "name": "ipython",
    "version": 3
   },
   "file_extension": ".py",
   "mimetype": "text/x-python",
   "name": "python",
   "nbconvert_exporter": "python",
   "pygments_lexer": "ipython3",
   "version": "3.10.10"
  },
  "orig_nbformat": 4
 },
 "nbformat": 4,
 "nbformat_minor": 2
}
