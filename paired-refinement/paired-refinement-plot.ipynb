{
 "cells": [
  {
   "cell_type": "code",
   "execution_count": 12,
   "metadata": {},
   "outputs": [],
   "source": [
    "import numpy as np\n",
    "from scipy import optimize, interpolate\n",
    "from matplotlib import pyplot as plt"
   ]
  },
  {
   "cell_type": "code",
   "execution_count": 2,
   "metadata": {},
   "outputs": [],
   "source": [
    "def r_work_scaling(resolution):\n",
    "    # Acta Cryst. (2009). D65, 1283–1291\n",
    "    return 0.091 * np.log(resolution) + 0.134\n",
    "\n",
    "def delta_r_scaling(resolution):\n",
    "    # Acta Cryst. (2009). D65, 1283–1291\n",
    "    return 0.024 * np.log(resolution) + 0.020\n",
    "\n",
    "def r_free_scaling(resolution):\n",
    "    # Acta Cryst. (2009). D65, 1283–1291\n",
    "    return r_work_scaling(resolution) + delta_r_scaling(resolution)"
   ]
  },
  {
   "cell_type": "code",
   "execution_count": 10,
   "metadata": {},
   "outputs": [],
   "source": [
    "def intersection_two_functions(func1, func2, bracket=[2.0, 3.0]):\n",
    "    diff_func = lambda x : func1(x) - func2(x)\n",
    "    intersection = optimize.root_scalar(diff_func, bracket=bracket, method='brentq')\n",
    "    return intersection.root\n",
    "\n",
    "\n",
    "def find_where_rfactors_intersect_pdb_dist(r_factor_table: np.array) -> float:\n",
    "\n",
    "    # r_factor_table is (resolution, r_work, r_free)\n",
    "    # linear interpolate this\n",
    "    r_work_cs = interpolate.CubicSpline(r_factor_table[:,0], r_factor_table[:,1])\n",
    "    r_free_cs = interpolate.CubicSpline(r_factor_table[:,0], r_factor_table[:,2])\n",
    "\n",
    "    r_work_intersection = intersection_two_functions(r_work_cs, r_work_scaling)\n",
    "    r_free_intersection = intersection_two_functions(r_free_cs, r_free_scaling)\n",
    "\n",
    "    return r_work_intersection, r_free_intersection"
   ]
  },
  {
   "attachments": {},
   "cell_type": "markdown",
   "metadata": {},
   "source": [
    "## plot Rwork and Rfree for each resolution cut, "
   ]
  },
  {
   "cell_type": "code",
   "execution_count": 11,
   "metadata": {},
   "outputs": [
    {
     "name": "stdout",
     "output_type": "stream",
     "text": [
      "2.1583123951777\n"
     ]
    }
   ],
   "source": [
    "def f1(x):\n",
    "    return x ** 2 - 2.5\n",
    "\n",
    "def f2(x):\n",
    "    return x\n",
    "\n",
    "print(intersection_two_functions(f1, f2))"
   ]
  },
  {
   "cell_type": "code",
   "execution_count": null,
   "metadata": {},
   "outputs": [],
   "source": []
  }
 ],
 "metadata": {
  "kernelspec": {
   "display_name": "base",
   "language": "python",
   "name": "python3"
  },
  "language_info": {
   "codemirror_mode": {
    "name": "ipython",
    "version": 3
   },
   "file_extension": ".py",
   "mimetype": "text/x-python",
   "name": "python",
   "nbconvert_exporter": "python",
   "pygments_lexer": "ipython3",
   "version": "3.10.0"
  },
  "orig_nbformat": 4
 },
 "nbformat": 4,
 "nbformat_minor": 2
}
