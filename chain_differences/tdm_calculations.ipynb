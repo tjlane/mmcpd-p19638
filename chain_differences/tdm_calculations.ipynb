{
 "cells": [
  {
   "cell_type": "code",
   "execution_count": 1,
   "metadata": {},
   "outputs": [],
   "source": [
    "import numpy as np\n",
    "import gemmi\n",
    "import mdtraj as md\n",
    "from matplotlib import pyplot as plt"
   ]
  },
  {
   "cell_type": "code",
   "execution_count": 2,
   "metadata": {},
   "outputs": [],
   "source": [
    "# the \"FAD frame\" is:\n",
    "#  +x from C10 to C9A\n",
    "#  +y from N5 to N10\n",
    "#  +z completing the right hand rule\n",
    "\n",
    "# from Pauszek et al JACS 2016, 138, 14880−14889 DOI:10.1021/jacs.6b06449 \n",
    "\n",
    "TDM_IN_FAD_FRAME_S01 = np.array([-0.3059, 0.3008, -0.0162])\n",
    "TDM_IN_FAD_FRAME_S02 = np.array([-1.1889, 0.0081, -0.1393])\n",
    "\n",
    "CHAIN_A_FAD_N5 = np.array([14.968,  13.196,  -4.538])\n",
    "CHAIN_B_FAD_N5 = np.array([ 8.418, -13.783, -26.245])"
   ]
  },
  {
   "cell_type": "code",
   "execution_count": 3,
   "metadata": {},
   "outputs": [],
   "source": [
    "def crystal_to_fad(trj, chain=0):\n",
    "\n",
    "    if chain not in [0, 2]:\n",
    "        raise ValueError('You want chain = 0 (A) or 2 (B)')\n",
    "\n",
    "    approx_basis_vectors = []\n",
    "    xyzs = []\n",
    "\n",
    "    for i, atom in enumerate([\"N10\", \"N5\", \"C9A\", \"C10\"]):\n",
    "\n",
    "        atom_sele = f'name {atom}'\n",
    "        selection = f'(chainid {chain}) and (resname FDA) and ({atom_sele})'\n",
    "        sele = trj.top.select(selection)\n",
    "\n",
    "        assert len(sele) == 1, len(sele)\n",
    "\n",
    "        xyzs.append(trj.xyz[0, sele[0], :])\n",
    "\n",
    "    x_approx = xyzs[2] - xyzs[3]\n",
    "    x_approx = x_approx / np.linalg.norm(x_approx)\n",
    "\n",
    "    y_approx = xyzs[1] - xyzs[0]\n",
    "    y_approx = y_approx / np.linalg.norm(y_approx)\n",
    "\n",
    "    # this is approximate, but there is no way to do better from the information I have\n",
    "    #   1. we assign (C10 -> C9A) as +x\n",
    "    #   2. the, we assign (N10 -> N5) x (C10 -> C9A) as +z\n",
    "    #   3. finally, (x) x (z) as +y, which should be approximately (C10 -> C9A)\n",
    "\n",
    "    x = x_approx\n",
    "    z = np.cross(x, y_approx)\n",
    "    y = np.cross(z, x)\n",
    "\n",
    "    assert np.abs(np.dot(y_approx, y)) > 0.99\n",
    "\n",
    "    R = np.column_stack([x, y, z])\n",
    "    det = np.linalg.det(R)\n",
    "    assert np.abs(det - 1.0) < 0.001, det\n",
    "\n",
    "    return R\n",
    "\n",
    "\n",
    "def rotation_matrix_from_A(A):\n",
    "    \"\"\"\n",
    "    For an orthorhombic system, we can write the A matrix as:\n",
    "\n",
    "        A = R S I\n",
    "\n",
    "    Where:\n",
    "        -- I is the identity\n",
    "        -- S is a (diagonal) scaling matrix that sets the length of each a/b/c/ axis\n",
    "        -- R is a rotation matrix\n",
    "\n",
    "    So, we'll simply write:\n",
    "\n",
    "        R = A S^{-1}\n",
    "    \"\"\"\n",
    "\n",
    "    if not A.shape == (3, 3):\n",
    "        raise ValueError('A not 3x3', A.shape)\n",
    "\n",
    "    # cell lengths in nm (CrystFEL uses nm)\n",
    "    S = np.diag([70.200,  117.760,  170.470]) * 0.1\n",
    "    R = np.dot(A, np.linalg.inv(S))\n",
    "\n",
    "    # rotation matrices should have det(R) = 1\n",
    "    det = np.linalg.det(R)\n",
    "    assert np.abs(det - 1.0) < 0.05, det\n",
    "\n",
    "    return R\n",
    "\n",
    "\n",
    "def expand_p212121(vector):\n",
    "\n",
    "    sg = gemmi.SpaceGroup('P212121')\n",
    "    ops = sg.operations()\n",
    "\n",
    "    set_of_vectors = []\n",
    "    for op in ops:\n",
    "        vt = np.dot( np.array(op.rot) / 24.0, vector)\n",
    "        set_of_vectors.append(vt)\n",
    "\n",
    "    return np.array(set_of_vectors)\n",
    "\n",
    "\n",
    "def compute_tdm_Pz(tdm_vector_in_crystal_setting, A):\n",
    "    \"\"\"\n",
    "    From a tdm vector, in the crystal setting, return the component perpindicular to z\n",
    "      1. symmetry expand\n",
    "      2. rotate\n",
    "      3. project on z\n",
    "      4. return Pz\n",
    "    \"\"\"\n",
    "\n",
    "    tdm_hat = tdm_vector_in_crystal_setting / \\\n",
    "        np.linalg.norm(tdm_vector_in_crystal_setting)\n",
    "    \n",
    "    z_hat = np.array([0.0, 0.0, 1.0])\n",
    "\n",
    "    tdm_set = expand_p212121(tdm_hat)\n",
    "    assert tdm_set.shape[-1] == 3\n",
    "    assert np.all( np.abs(np.linalg.norm(tdm_set, axis=-1) - 1) < 0.0001)\n",
    "\n",
    "    R = rotation_matrix_from_A(A)\n",
    "\n",
    "    rotated_tdms = np.dot(tdm_set, R.T)\n",
    "    projectd_tdms = np.dot(rotated_tdms, z_hat)\n",
    "\n",
    "    Pz = np.sum(1.0 - np.square(projectd_tdms)) / float(tdm_set.shape[0])\n",
    "\n",
    "    return Pz\n"
   ]
  },
  {
   "attachments": {},
   "cell_type": "markdown",
   "metadata": {},
   "source": [
    "### TDM\n",
    "\n",
    "Logic. Given TDM $\\mu$ in the FAD frame of reference, we need to compute the set of TDMs in the experimental frame. To do this, we:\n",
    "\n",
    "1. for each chain: compute the rotation matrices to go from the crystal frame to the frame of FAD (2 rotation matrices)\n",
    "2. compute the TDM for each chain in the crystal frame (2 vectors)\n",
    "3. symmetry-expand these vectors (4 + 4 vectors)\n",
    "4. rotate these vectors using the A-matrix into the experimental frame\n",
    "\n",
    "Then we can simply compute the component of the TDM that is in the (circular) polarization plane as:\n",
    "\n",
    "$$\n",
    "\\sum_i 1 - (\\vec{\\mu}_i \\cdot \\vec{z})^2\n",
    "$$\n",
    "\n",
    "In code, we refer to this quantity as \"Pz\"\n",
    "\n",
    "NB! The A-matices were computed such that (a,b,c) formed the ROWS of the matrix, but here we transpose them such that they form the COLUMNS, which is more standard."
   ]
  },
  {
   "attachments": {},
   "cell_type": "markdown",
   "metadata": {},
   "source": [
    "First, pymol validation of placement of TDMs in the crystal frame..."
   ]
  },
  {
   "cell_type": "code",
   "execution_count": 4,
   "metadata": {},
   "outputs": [
    {
     "name": "stdout",
     "output_type": "stream",
     "text": [
      "[[ 0.6257882  -0.35356882  0.6952449 ]\n",
      " [ 0.6022435   0.7854614  -0.1426178 ]\n",
      " [-0.49567318  0.50795525  0.704467  ]]\n"
     ]
    }
   ],
   "source": [
    "trj = md.load_pdb('../pltest.pdb')\n",
    "R = crystal_to_fad(trj, chain=2)\n",
    "print(R)\n",
    "\n",
    "tdm = np.dot(R, TDM_IN_FAD_FRAME_S02)"
   ]
  },
  {
   "cell_type": "code",
   "execution_count": 5,
   "metadata": {},
   "outputs": [
    {
     "name": "stdout",
     "output_type": "stream",
     "text": [
      "pseudoatom pt1, pos=[8.418, -13.783, -26.245]\n",
      "pseudoatom pt2, pos=[-0.01911128225922809, -20.680783789828418, -21.292119720935823]\n",
      "distance /pt1, /pt2\n",
      "set dash_gap, 0\n"
     ]
    }
   ],
   "source": [
    "atom = CHAIN_B_FAD_N5\n",
    "\n",
    "print(f\"pseudoatom pt1, pos={[a for a in atom]}\")\n",
    "print(f\"pseudoatom pt2, pos={[a for a in 10*tdm+atom]}\")\n",
    "print(\"distance /pt1, /pt2\")\n",
    "print(\"set dash_gap, 0\")\n"
   ]
  },
  {
   "attachments": {},
   "cell_type": "markdown",
   "metadata": {},
   "source": [
    "Small tests for the projection code"
   ]
  },
  {
   "cell_type": "code",
   "execution_count": 6,
   "metadata": {},
   "outputs": [],
   "source": [
    "x = np.array([1.0, 0.0, 0.0])\n",
    "z = np.array([0.0, 0.0, 1.0])\n",
    "\n",
    "non_rotating_A = np.diag([70.200,  117.760,  170.470]) * 0.1\n",
    "\n",
    "assert np.abs(compute_tdm_Pz(x, non_rotating_A) - 1.0) < 0.001\n",
    "assert np.abs(compute_tdm_Pz(z, non_rotating_A) - 0.0) < 0.001\n",
    "assert np.abs(compute_tdm_Pz(x+z, non_rotating_A) - 0.5) < 0.001"
   ]
  },
  {
   "attachments": {},
   "cell_type": "markdown",
   "metadata": {},
   "source": [
    "### do the calculation"
   ]
  },
  {
   "cell_type": "code",
   "execution_count": 7,
   "metadata": {},
   "outputs": [
    {
     "name": "stdout",
     "output_type": "stream",
     "text": [
      "(35113, 3, 3)\n"
     ]
    }
   ],
   "source": [
    "a_matrix_file = '/Users/tjlane/Desktop/PL-workshop/signals_chain_A_vs_B/orient/crystal_Amatrices_TD_all.npy'\n",
    "#a_matrix_file = '/Users/tjlane/Desktop/PL-workshop/signals_chain_A_vs_B/orient/crystal_Amatrices_100us_dark.npy'\n",
    "#a_matrix_file = '/Users/tjlane/Desktop/PL-workshop/signals_chain_A_vs_B/orient/crystal_Amatrices_100us_l+d.npy'\n",
    "\n",
    "# NB transpose so that columns are a/b/c vectors\n",
    "A_matrices = np.transpose(np.load(a_matrix_file), axes=(0,2,1))\n",
    "print(A_matrices.shape)"
   ]
  },
  {
   "cell_type": "code",
   "execution_count": 9,
   "metadata": {},
   "outputs": [
    {
     "name": "stdout",
     "output_type": "stream",
     "text": [
      "Projection Magnitudes\n",
      "\n",
      "TDM\tChain A\tChain B\n",
      "---------------------\n",
      "S01\t0.599\t0.600\n",
      "S02\t0.744\t0.699\n"
     ]
    }
   ],
   "source": [
    "tdm_names = ['S01', 'S02']\n",
    "\n",
    "print('Projection Magnitudes')\n",
    "print('')\n",
    "print('TDM\\tChain A\\tChain B')\n",
    "print('---------------------')\n",
    "\n",
    "for i,tdm_fad_frame in enumerate([TDM_IN_FAD_FRAME_S01, TDM_IN_FAD_FRAME_S02]):\n",
    "\n",
    "    tdm_chainA = np.dot(crystal_to_fad(trj, chain=0), tdm_fad_frame)\n",
    "    tdm_chainB = np.dot(crystal_to_fad(trj, chain=2), tdm_fad_frame)\n",
    "\n",
    "    chainA_projection = np.mean([compute_tdm_Pz(tdm_chainA, A) for A in A_matrices])\n",
    "    chainB_projection = np.mean([compute_tdm_Pz(tdm_chainB, A) for A in A_matrices])\n",
    "\n",
    "    print(\"%s\\t%.3f\\t%.3f\" % (tdm_names[i], chainA_projection, chainB_projection))"
   ]
  },
  {
   "attachments": {},
   "cell_type": "markdown",
   "metadata": {},
   "source": [
    "### Reference calculation -- randomly oriented TDM (e.g. in solution)\n",
    "\n",
    "Recall $z = \\cos \\theta$ in spherical coordinates and that the surface area of the unit sphere is $4 \\pi$. We want to integrate the function $ 1 - (\\hat{\\mu} \\cdot \\hat{z})^2 = 1 - \\cos^2 \\theta $ over the surface of the sphere. \n",
    "\n",
    "$$\n",
    "\\frac{1}{4 \\pi} \\int_0^{2 \\pi} \\int_0^{\\pi} (1 - \\cos^2 \\theta) \\sin \\theta d\\theta d\\phi = 2/3\n",
    "$$"
   ]
  },
  {
   "cell_type": "code",
   "execution_count": null,
   "metadata": {},
   "outputs": [],
   "source": []
  }
 ],
 "metadata": {
  "kernelspec": {
   "display_name": "base",
   "language": "python",
   "name": "python3"
  },
  "language_info": {
   "codemirror_mode": {
    "name": "ipython",
    "version": 3
   },
   "file_extension": ".py",
   "mimetype": "text/x-python",
   "name": "python",
   "nbconvert_exporter": "python",
   "pygments_lexer": "ipython3",
   "version": "3.10.0"
  },
  "orig_nbformat": 4
 },
 "nbformat": 4,
 "nbformat_minor": 2
}
