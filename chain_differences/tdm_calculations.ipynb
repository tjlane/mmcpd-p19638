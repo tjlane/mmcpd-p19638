{
 "cells": [
  {
   "cell_type": "code",
   "execution_count": 1,
   "metadata": {},
   "outputs": [],
   "source": [
    "import numpy as np\n",
    "import gemmi\n",
    "from matplotlib import pyplot as plt"
   ]
  },
  {
   "cell_type": "code",
   "execution_count": null,
   "metadata": {},
   "outputs": [],
   "source": [
    "# the \"FAD frame\" is:\n",
    "#  +x from C10 to C9A\n",
    "#  +y from N5 to N10\n",
    "#  +z completing the right hand rule\n",
    "\n",
    "TDM_IN_FAD_FRAME = np.array([])"
   ]
  },
  {
   "cell_type": "code",
   "execution_count": 24,
   "metadata": {},
   "outputs": [],
   "source": [
    "def tdm_in_crystal_frame(trj, chain=0):\n",
    "    return\n",
    "\n",
    "\n",
    "def rotation_matrix_from_A(A):\n",
    "    \"\"\"\n",
    "    For an orthorhombic system, we can write the A matrix as:\n",
    "\n",
    "      A = R S I\n",
    "\n",
    "    Where:\n",
    "      -- I is the identity\n",
    "      -- S is a (diagonal) scaling matrix that sets the length of each a/b/c/ axis\n",
    "      -- R is a rotation matrix\n",
    "\n",
    "    So, we'll simply write:\n",
    "    \n",
    "      R = A S^{-1}\n",
    "    \"\"\"\n",
    "\n",
    "    if not A.shape == (3,3):\n",
    "        raise ValueError('A not 3x3', A.shape)\n",
    "\n",
    "    S = np.diag([70.200,  117.760,  170.470]) * 0.1  # cell lengths in nm (CrystFEL uses nm)\n",
    "    R = np.dot(A, np.linalg.inv(S))\n",
    "\n",
    "    # rotation matrices should have det(R) = 1\n",
    "    det = np.linalg.det(R)\n",
    "    assert np.abs(det - 1.0) < 0.01, det\n",
    "\n",
    "    return R\n",
    "\n",
    "\n",
    "def expand_p212121(vector):\n",
    "\n",
    "    sg = gemmi.SpaceGroup('P212121')\n",
    "    ops = sg.operations()\n",
    "\n",
    "    set_of_vectors = []\n",
    "    for op in ops:\n",
    "        vt = op.apply_to_xyz(vector)\n",
    "        set_of_vectors.append(vt)\n",
    "\n",
    "    return np.array(set_of_vectors)"
   ]
  },
  {
   "attachments": {},
   "cell_type": "markdown",
   "metadata": {},
   "source": [
    "### TDM\n",
    "\n",
    "Logic. Given TDM $\\mu$ in the FAD frame of reference, we need to compute the set of TDMs in the experimental frame. To do this, we:\n",
    "\n",
    "1. for each chain: compute the rotation matrices to go from the crystal frame to the frame of FAD (2 rotation matrices)\n",
    "2. compute the TDM for each chain in the crystal frame (2 vectors)\n",
    "3. symmetry-expand these vectors (4 + 4 vectors)\n",
    "4. rotate these vectors using the A-matrix into the experimental frame\n",
    "\n",
    "Then we can simply compute the component of the TDM that is in the (circular) polarization plane as:\n",
    "\n",
    "$$\n",
    "\\sum_i 1 - (\\vec{\\mu}_i \\cdot \\vec{z})^2\n",
    "$$\n",
    "\n",
    "NB! The A-matices were computed such that (a,b,c) formed the ROWS of the matrix, but here we transpose them such that they form the COLUMNS, which is more standard."
   ]
  },
  {
   "cell_type": "code",
   "execution_count": 18,
   "metadata": {},
   "outputs": [
    {
     "name": "stdout",
     "output_type": "stream",
     "text": [
      "(115492, 3, 3)\n"
     ]
    }
   ],
   "source": [
    "a_matrix_file = '/Users/tjlane/Desktop/PL-workshop/signals_chain_A_vs_B/orient/crystal_Amatrices_100us_dark.npy'\n",
    "#a_matrix_file = '/Users/tjlane/Desktop/PL-workshop/signals_chain_A_vs_B/orient/crystal_Amatrices_TD_all.npy'\n",
    "#a_matrix_file = '/Users/tjlane/Desktop/PL-workshop/signals_chain_A_vs_B/orient/crystal_Amatrices_100us_l+d.npy'\n",
    " \n",
    "A_matrices = np.transpose(np.load(a_matrix_file), axes=(0,2,1))\n",
    "print(A_matrices.shape)"
   ]
  },
  {
   "cell_type": "code",
   "execution_count": 25,
   "metadata": {},
   "outputs": [
    {
     "data": {
      "text/plain": [
       "array([[-0.05561658,  0.23822073, -0.96976568],\n",
       "       [-0.59976917, -0.78317727, -0.15801732],\n",
       "       [-0.79152978,  0.5785835 ,  0.17766725]])"
      ]
     },
     "execution_count": 25,
     "metadata": {},
     "output_type": "execute_result"
    }
   ],
   "source": [
    "rotation_matrix_from_A(A_matrices[0])"
   ]
  },
  {
   "cell_type": "code",
   "execution_count": null,
   "metadata": {},
   "outputs": [],
   "source": []
  }
 ],
 "metadata": {
  "kernelspec": {
   "display_name": "base",
   "language": "python",
   "name": "python3"
  },
  "language_info": {
   "codemirror_mode": {
    "name": "ipython",
    "version": 3
   },
   "file_extension": ".py",
   "mimetype": "text/x-python",
   "name": "python",
   "nbconvert_exporter": "python",
   "pygments_lexer": "ipython3",
   "version": "3.10.0"
  },
  "orig_nbformat": 4
 },
 "nbformat": 4,
 "nbformat_minor": 2
}
