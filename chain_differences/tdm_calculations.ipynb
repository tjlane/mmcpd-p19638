{
 "cells": [
  {
   "cell_type": "code",
   "execution_count": 2,
   "metadata": {},
   "outputs": [],
   "source": [
    "import numpy as np\n",
    "from matplotlib import pyplot as plt"
   ]
  },
  {
   "cell_type": "code",
   "execution_count": null,
   "metadata": {},
   "outputs": [],
   "source": [
    "# the \"FAD frame\" is:\n",
    "#  +x from C10 to C9A\n",
    "#  +y from N5 to N10\n",
    "#  +z completing the right hand rule\n",
    "\n",
    "TDM_IN_FAD_FRAME = np.array([])"
   ]
  },
  {
   "cell_type": "code",
   "execution_count": null,
   "metadata": {},
   "outputs": [],
   "source": [
    "def rotation_matrix_crystal(trj, chain=0):\n",
    "    return\n",
    "\n",
    "def rotation_matrix_from_A(A):\n",
    "    return\n",
    "\n",
    "def expand_p212121(vector):\n",
    "    return set_of_vectors"
   ]
  },
  {
   "attachments": {},
   "cell_type": "markdown",
   "metadata": {},
   "source": [
    "### TDM\n",
    "\n",
    "Logic. Given TDM $\\mu$ in the FAD frame of reference, we need to compute the set of TDMs in the experimental frame. To do this, we:\n",
    "\n",
    "1. for each chain: compute the rotation matrices to go from the crystal frame to the frame of FAD (2 rotation matrices)\n",
    "2. compute the TDM for each chain in the crystal frame (2 vectors)\n",
    "3. symmetry-expand these vectors (4 + 4 vectors)\n",
    "4. rotate these vectors using the A-matrix into the experimental frame\n",
    "\n",
    "Then we can simply compute the component of the TDM that is in the (circular) polarization plane as:\n",
    "\n",
    "$$\n",
    "\\sum_i 1 - (\\vec{\\mu}_i \\cdot \\vec{z})^2\n",
    "$$"
   ]
  },
  {
   "cell_type": "code",
   "execution_count": 7,
   "metadata": {},
   "outputs": [
    {
     "name": "stdout",
     "output_type": "stream",
     "text": [
      "(115492, 3, 3)\n"
     ]
    }
   ],
   "source": [
    "a_matrix_file = '/Users/tjlane/Desktop/PL-workshop/signals_chain_A_vs_B/orient/crystal_Amatrices_100us_dark.npy'\n",
    "#a_matrix_file = '/Users/tjlane/Desktop/PL-workshop/signals_chain_A_vs_B/orient/crystal_Amatrices_TD_all.npy'\n",
    "#a_matrix_file = '/Users/tjlane/Desktop/PL-workshop/signals_chain_A_vs_B/orient/crystal_Amatrices_100us_l+d.npy'\n",
    " \n",
    "A_matrices = np.load(a_matrix_file)\n",
    "print(A_matrices.shape)"
   ]
  },
  {
   "cell_type": "code",
   "execution_count": 9,
   "metadata": {},
   "outputs": [
    {
     "data": {
      "text/plain": [
       "array([[ -0.39042838,  -4.21037955,  -5.55653905],\n",
       "       [  2.80528735,  -9.22269548,   6.81339931],\n",
       "       [-16.53159563,  -2.69372133,   3.02869369]])"
      ]
     },
     "execution_count": 9,
     "metadata": {},
     "output_type": "execute_result"
    }
   ],
   "source": [
    "A_matrices[0]"
   ]
  },
  {
   "cell_type": "code",
   "execution_count": 14,
   "metadata": {},
   "outputs": [
    {
     "name": "stdout",
     "output_type": "stream",
     "text": [
      "[[1 0 0]\n",
      " [1 2 0]\n",
      " [0 0 3]]\n",
      "[ 1.  -0.5  0. ]\n"
     ]
    }
   ],
   "source": [
    "# this is a test to ensure we slice correctly\n",
    "# the code below is the same as used to compute A_matrices\n",
    "\n",
    "a_star = np.array([1, 1, 0])\n",
    "b_star = np.array([0, 2, 0])\n",
    "c_star = np.array([0, 0, 3])\n",
    "\n",
    "A_star = np.column_stack((a_star, b_star, c_star))\n",
    "print(A_star)\n",
    "\n",
    "A = np.linalg.inv(A_star)\n",
    "print(A[:,0]) # this is \"x\""
   ]
  },
  {
   "cell_type": "code",
   "execution_count": null,
   "metadata": {},
   "outputs": [],
   "source": []
  }
 ],
 "metadata": {
  "kernelspec": {
   "display_name": "base",
   "language": "python",
   "name": "python3"
  },
  "language_info": {
   "codemirror_mode": {
    "name": "ipython",
    "version": 3
   },
   "file_extension": ".py",
   "mimetype": "text/x-python",
   "name": "python",
   "nbconvert_exporter": "python",
   "pygments_lexer": "ipython3",
   "version": "3.10.0"
  },
  "orig_nbformat": 4
 },
 "nbformat": 4,
 "nbformat_minor": 2
}
