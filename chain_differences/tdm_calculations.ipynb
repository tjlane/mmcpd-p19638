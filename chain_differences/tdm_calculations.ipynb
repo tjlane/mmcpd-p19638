{
 "cells": [
  {
   "cell_type": "code",
   "execution_count": 26,
   "metadata": {},
   "outputs": [],
   "source": [
    "import numpy as np\n",
    "import gemmi\n",
    "import mdtraj as md\n",
    "from matplotlib import pyplot as plt"
   ]
  },
  {
   "cell_type": "code",
   "execution_count": 72,
   "metadata": {},
   "outputs": [],
   "source": [
    "# the \"FAD frame\" is:\n",
    "#  +x from C10 to C9A\n",
    "#  +y from N5 to N10\n",
    "#  +z completing the right hand rule\n",
    "\n",
    "# from Pauszek et al JACS 2016, 138, 14880−14889 DOI:10.1021/jacs.6b06449 \n",
    "\n",
    "TDM_IN_FAD_FRAME_S01 = np.array([-0.3059, 0.3008, -0.0162])\n",
    "TDM_IN_FAD_FRAME_S02 = np.array([-1.1889, 0.0081, -0.1393])\n",
    "\n",
    "CHAIN_A_FAD_N5 = np.array([14.968,  13.196,  -4.538])\n",
    "CHAIN_B_FAD_N5 = np.array([ 8.418, -13.783, -26.245])"
   ]
  },
  {
   "cell_type": "code",
   "execution_count": 67,
   "metadata": {},
   "outputs": [],
   "source": [
    "def crystal_to_fad(trj, chain=0):\n",
    "\n",
    "    if chain not in [0, 2]:\n",
    "        raise ValueError('You want chain = 0 (A) or 2 (B)')\n",
    "\n",
    "    approx_basis_vectors = []\n",
    "\n",
    "    for i, atom in enumerate([\"N10\", \"N5\", \"C9A\", \"C10\"]):\n",
    "\n",
    "        atom_sele = f'name {atom}'\n",
    "        selection = f'(chainid {chain}) and (resname FDA) and ({atom_sele})'\n",
    "        sele = trj.top.select(selection)\n",
    "\n",
    "        assert len(sele) == 1, len(sele)\n",
    "\n",
    "        xyz = trj.xyz[0, sele, :]\n",
    "        v_hat = xyz[1] - xyz[0]\n",
    "        v_hat = v_hat / np.linalg.norm(v_hat)\n",
    "        approx_basis_vectors.append(v_hat)\n",
    "\n",
    "    # this is approximate, but there is no way to do better from the information I have\n",
    "    #   1. we assign N10 -> N5 as +x\n",
    "    #   2. the, we assign (N10 -> N5) x (C9A -> C10) as +z\n",
    "    #   3. finally, (x) x (z) as +y, which should be approximately C9A -> C10\n",
    "\n",
    "    x = approx_basis_vectors[0]\n",
    "    z = np.cross(x, approx_basis_vectors[1])\n",
    "    y = np.cross(z, x)\n",
    "\n",
    "    assert np.abs(np.dot(approx_basis_vectors[1], y)) > 0.99\n",
    "\n",
    "    R = np.column_stack([x, y, z])\n",
    "    det = np.linalg.det(R)\n",
    "    assert np.abs(det - 1.0) < 0.001, det\n",
    "\n",
    "    return R\n",
    "\n",
    "\n",
    "def rotation_matrix_from_A(A):\n",
    "    \"\"\"\n",
    "    For an orthorhombic system, we can write the A matrix as:\n",
    "\n",
    "        A = R S I\n",
    "\n",
    "    Where:\n",
    "        -- I is the identity\n",
    "        -- S is a (diagonal) scaling matrix that sets the length of each a/b/c/ axis\n",
    "        -- R is a rotation matrix\n",
    "\n",
    "    So, we'll simply write:\n",
    "\n",
    "        R = A S^{-1}\n",
    "    \"\"\"\n",
    "\n",
    "    if not A.shape == (3, 3):\n",
    "        raise ValueError('A not 3x3', A.shape)\n",
    "\n",
    "    # cell lengths in nm (CrystFEL uses nm)\n",
    "    S = np.diag([70.200,  117.760,  170.470]) * 0.1\n",
    "    R = np.dot(A, np.linalg.inv(S))\n",
    "\n",
    "    # rotation matrices should have det(R) = 1\n",
    "    det = np.linalg.det(R)\n",
    "    assert np.abs(det - 1.0) < 0.01, det\n",
    "\n",
    "    return R\n",
    "\n",
    "\n",
    "def expand_p212121(vector):\n",
    "\n",
    "    sg = gemmi.SpaceGroup('P212121')\n",
    "    ops = sg.operations()\n",
    "\n",
    "    set_of_vectors = []\n",
    "    for op in ops:\n",
    "        vt = op.apply_to_xyz(vector)\n",
    "        set_of_vectors.append(vt)\n",
    "\n",
    "    return np.array(set_of_vectors)\n",
    "\n",
    "\n",
    "def compute_tdm_Pz(tdm_vector_in_crystal_setting, A):\n",
    "    \"\"\"\n",
    "    From a tdm vector, in the crystal setting, return the component perpindicular to z\n",
    "      1. symmetry expand\n",
    "      2. rotate\n",
    "      3. project on z\n",
    "      4. return Pz\n",
    "    \"\"\"\n",
    "\n",
    "    tdm_hat = tdm_vector_in_crystal_setting / \\\n",
    "        np.linalg.norm(tdm_vector_in_crystal_setting)\n",
    "    \n",
    "    \n",
    "    z_hat = np.array([0.0, 0.0, 1.0])\n",
    "\n",
    "    tdm_set = expand_p212121(tdm_hat)\n",
    "    assert tdm_set.shape[-1] == 3\n",
    "\n",
    "    R = rotation_matrix_from_A(A)\n",
    "\n",
    "    Pz = np.sum(1.0 - np.square(np.dot(np.dot(R, tdm_set), z_hat)))\n",
    "\n",
    "    return Pz\n"
   ]
  },
  {
   "attachments": {},
   "cell_type": "markdown",
   "metadata": {},
   "source": [
    "### TDM\n",
    "\n",
    "Logic. Given TDM $\\mu$ in the FAD frame of reference, we need to compute the set of TDMs in the experimental frame. To do this, we:\n",
    "\n",
    "1. for each chain: compute the rotation matrices to go from the crystal frame to the frame of FAD (2 rotation matrices)\n",
    "2. compute the TDM for each chain in the crystal frame (2 vectors)\n",
    "3. symmetry-expand these vectors (4 + 4 vectors)\n",
    "4. rotate these vectors using the A-matrix into the experimental frame\n",
    "\n",
    "Then we can simply compute the component of the TDM that is in the (circular) polarization plane as:\n",
    "\n",
    "$$\n",
    "\\sum_i 1 - (\\vec{\\mu}_i \\cdot \\vec{z})^2\n",
    "$$\n",
    "\n",
    "In code, we refer to this quantity as \"Pz\"\n",
    "\n",
    "NB! The A-matices were computed such that (a,b,c) formed the ROWS of the matrix, but here we transpose them such that they form the COLUMNS, which is more standard."
   ]
  },
  {
   "cell_type": "code",
   "execution_count": 18,
   "metadata": {},
   "outputs": [
    {
     "name": "stdout",
     "output_type": "stream",
     "text": [
      "(115492, 3, 3)\n"
     ]
    }
   ],
   "source": [
    "a_matrix_file = '/Users/tjlane/Desktop/PL-workshop/signals_chain_A_vs_B/orient/crystal_Amatrices_100us_dark.npy'\n",
    "#a_matrix_file = '/Users/tjlane/Desktop/PL-workshop/signals_chain_A_vs_B/orient/crystal_Amatrices_TD_all.npy'\n",
    "#a_matrix_file = '/Users/tjlane/Desktop/PL-workshop/signals_chain_A_vs_B/orient/crystal_Amatrices_100us_l+d.npy'\n",
    " \n",
    "A_matrices = np.transpose(np.load(a_matrix_file), axes=(0,2,1))\n",
    "print(A_matrices.shape)"
   ]
  },
  {
   "cell_type": "code",
   "execution_count": 89,
   "metadata": {},
   "outputs": [
    {
     "name": "stdout",
     "output_type": "stream",
     "text": [
      "[[-0.69999415  0.20605138 -0.68377084]\n",
      " [-0.508037   -0.81658137  0.27400893]\n",
      " [-0.50190294  0.5391855   0.67628396]]\n"
     ]
    }
   ],
   "source": [
    "trj = md.load_pdb('../pltest.pdb')\n",
    "R = crystal_to_fad(trj, chain=0)\n",
    "print(R)\n",
    "\n",
    "tdm = np.dot(R, TDM_IN_FAD_FRAME_S02)"
   ]
  },
  {
   "cell_type": "code",
   "execution_count": 90,
   "metadata": {},
   "outputs": [
    {
     "name": "stdout",
     "output_type": "stream",
     "text": [
      "pseudoatom pt1, pos=[14.968, 13.196, -4.538]\n",
      "pseudoatom pt2, pos=[23.94823020941019, 9.929026624053716, 2.671482635259629]\n",
      "distance /pt1, /pt2\n",
      "set dash_gap, 0\n"
     ]
    }
   ],
   "source": [
    "atom = CHAIN_A_FAD_N5\n",
    "\n",
    "print(f\"pseudoatom pt1, pos={[a for a in atom]}\")\n",
    "print(f\"pseudoatom pt2, pos={[a for a in 10*tdm+atom]}\")\n",
    "print(\"distance /pt1, /pt2\")\n",
    "print(\"set dash_gap, 0\")\n"
   ]
  },
  {
   "cell_type": "code",
   "execution_count": null,
   "metadata": {},
   "outputs": [],
   "source": []
  },
  {
   "cell_type": "code",
   "execution_count": null,
   "metadata": {},
   "outputs": [],
   "source": []
  }
 ],
 "metadata": {
  "kernelspec": {
   "display_name": "base",
   "language": "python",
   "name": "python3"
  },
  "language_info": {
   "codemirror_mode": {
    "name": "ipython",
    "version": 3
   },
   "file_extension": ".py",
   "mimetype": "text/x-python",
   "name": "python",
   "nbconvert_exporter": "python",
   "pygments_lexer": "ipython3",
   "version": "3.10.0"
  },
  "orig_nbformat": 4
 },
 "nbformat": 4,
 "nbformat_minor": 2
}
